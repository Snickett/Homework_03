{
 "cells": [
  {
   "cell_type": "code",
   "execution_count": 1,
   "metadata": {},
   "outputs": [],
   "source": [
    "import os\n",
    "import csv\n",
    "import pandas as pd"
   ]
  },
  {
   "cell_type": "code",
   "execution_count": 2,
   "metadata": {},
   "outputs": [],
   "source": [
    "file = os.path.join(\"Resources\", \"budget_data.csv\")"
   ]
  },
  {
   "cell_type": "code",
   "execution_count": 3,
   "metadata": {},
   "outputs": [
    {
     "data": {
      "text/html": [
       "<div>\n",
       "<style scoped>\n",
       "    .dataframe tbody tr th:only-of-type {\n",
       "        vertical-align: middle;\n",
       "    }\n",
       "\n",
       "    .dataframe tbody tr th {\n",
       "        vertical-align: top;\n",
       "    }\n",
       "\n",
       "    .dataframe thead th {\n",
       "        text-align: right;\n",
       "    }\n",
       "</style>\n",
       "<table border=\"1\" class=\"dataframe\">\n",
       "  <thead>\n",
       "    <tr style=\"text-align: right;\">\n",
       "      <th></th>\n",
       "      <th>Date</th>\n",
       "      <th>Profit/Losses</th>\n",
       "    </tr>\n",
       "  </thead>\n",
       "  <tbody>\n",
       "    <tr>\n",
       "      <th>0</th>\n",
       "      <td>Jan-2010</td>\n",
       "      <td>867884</td>\n",
       "    </tr>\n",
       "    <tr>\n",
       "      <th>1</th>\n",
       "      <td>Feb-2010</td>\n",
       "      <td>984655</td>\n",
       "    </tr>\n",
       "    <tr>\n",
       "      <th>2</th>\n",
       "      <td>Mar-2010</td>\n",
       "      <td>322013</td>\n",
       "    </tr>\n",
       "    <tr>\n",
       "      <th>3</th>\n",
       "      <td>Apr-2010</td>\n",
       "      <td>-69417</td>\n",
       "    </tr>\n",
       "    <tr>\n",
       "      <th>4</th>\n",
       "      <td>May-2010</td>\n",
       "      <td>310503</td>\n",
       "    </tr>\n",
       "  </tbody>\n",
       "</table>\n",
       "</div>"
      ],
      "text/plain": [
       "       Date  Profit/Losses\n",
       "0  Jan-2010         867884\n",
       "1  Feb-2010         984655\n",
       "2  Mar-2010         322013\n",
       "3  Apr-2010         -69417\n",
       "4  May-2010         310503"
      ]
     },
     "execution_count": 3,
     "metadata": {},
     "output_type": "execute_result"
    }
   ],
   "source": [
    "file_df= pd.read_csv(file)\n",
    "file_df.head(5)"
   ]
  },
  {
   "cell_type": "code",
   "execution_count": null,
   "metadata": {},
   "outputs": [],
   "source": [
    "#The total number of months included in the dataset\n",
    "#The net total amount of \"Profit/Losses\" over the entire period\n",
    "#The average of the changes in \"Profit/Losses\" over the entire period\n",
    "#The greatest increase in profits (date and amount) over the entire period\n",
    "#The greatest decrease in losses (date and amount) over the entire period"
   ]
  },
  {
   "cell_type": "code",
   "execution_count": 10,
   "metadata": {},
   "outputs": [],
   "source": [
    "monthcount = file_df.iloc[:,0]"
   ]
  },
  {
   "cell_type": "code",
   "execution_count": 5,
   "metadata": {},
   "outputs": [],
   "source": [
    "profitloss=file_df.loc[:,\"Profit/Losses\"]"
   ]
  },
  {
   "cell_type": "code",
   "execution_count": 6,
   "metadata": {},
   "outputs": [],
   "source": [
    "avg = sum(profitloss)/len(profitloss)"
   ]
  },
  {
   "cell_type": "code",
   "execution_count": 24,
   "metadata": {},
   "outputs": [
    {
     "name": "stdout",
     "output_type": "stream",
     "text": [
      "Feb-2012\n",
      "1170593\n"
     ]
    }
   ],
   "source": [
    "df2 = file_df[file_df.loc[:,\"Profit/Losses\"] == max(profitloss)]\n",
    "print(df2.iloc[0,0])\n",
    "print(df2.iloc[0,1])"
   ]
  },
  {
   "cell_type": "code",
   "execution_count": 27,
   "metadata": {},
   "outputs": [
    {
     "name": "stdout",
     "output_type": "stream",
     "text": [
      "Sep-2013\n",
      "-1196225\n"
     ]
    }
   ],
   "source": [
    "df3 = file_df[file_df.loc[:,\"Profit/Losses\"] == min(profitloss)]\n",
    "print(df3.iloc[0,0])\n",
    "print(df3.iloc[0,1])"
   ]
  },
  {
   "cell_type": "code",
   "execution_count": 31,
   "metadata": {},
   "outputs": [
    {
     "name": "stdout",
     "output_type": "stream",
     "text": [
      "Financial Analysis\n",
      "----------------------------\n",
      "Total Months: 86\n",
      "Total: $ 38382578\n",
      "Average Change: $ 446309\n",
      "Greatest Increase in Profits: Feb-2012 ($1170593)\n",
      "Greatest Decrease in Profits: Sep-2013 ($-1196225)\n"
     ]
    }
   ],
   "source": [
    "print(\"Financial Analysis\")\n",
    "print(\"----------------------------\")\n",
    "print(f\"Total Months: {monthcount.count()}\")\n",
    "print(f\"Total: $ {sum(profitloss)}\")\n",
    "print(f\"Average Change: $ {round(avg)}\")\n",
    "print(f\"Greatest Increase in Profits: {df2.iloc[0,0]} (${df2.iloc[0,1]})\")\n",
    "print(f\"Greatest Decrease in Profits: {df3.iloc[0,0]} (${df3.iloc[0,1]})\")"
   ]
  },
  {
   "cell_type": "code",
   "execution_count": null,
   "metadata": {},
   "outputs": [],
   "source": [
    "output_path = os.path.join(\"Analysis\",\"Results.txt\")"
   ]
  },
  {
   "cell_type": "code",
   "execution_count": 30,
   "metadata": {},
   "outputs": [],
   "source": [
    "with open(output_path, 'w') as text_file:\n",
    "    text_file.write(\"Financial Analysis\\n\")\n",
    "    text_file.write(\"----------------------------\\n\")\n",
    "    text_file.write(f\"Total Months: {monthcount.count()}\\n\")\n",
    "    text_file.write(f\"Total: $ {sum(profitloss)}\\n\")\n",
    "    text_file.write(f\"Average Change: $ {round(avg)}\\n\")\n",
    "    text_file.write(f\"Greatest Increase in Profits: {df2.iloc[0,0]} (${df2.iloc[0,1]})\\n\")\n",
    "    text_file.write(f\"Greatest Decrease in Profits: {df3.iloc[0,0]} (${df3.iloc[0,1]})\\n\")"
   ]
  },
  {
   "cell_type": "code",
   "execution_count": null,
   "metadata": {},
   "outputs": [],
   "source": []
  }
 ],
 "metadata": {
  "kernelspec": {
   "display_name": "Python 3",
   "language": "python",
   "name": "python3"
  },
  "language_info": {
   "codemirror_mode": {
    "name": "ipython",
    "version": 3
   },
   "file_extension": ".py",
   "mimetype": "text/x-python",
   "name": "python",
   "nbconvert_exporter": "python",
   "pygments_lexer": "ipython3",
   "version": "3.8.3"
  }
 },
 "nbformat": 4,
 "nbformat_minor": 4
}
